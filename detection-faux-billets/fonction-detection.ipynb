{
 "cells": [
  {
   "cell_type": "markdown",
   "metadata": {},
   "source": [
    "# Fonction de détection des faux billets"
   ]
  },
  {
   "cell_type": "code",
   "execution_count": 1,
   "metadata": {},
   "outputs": [
    {
     "data": {
      "image/png": "[encoded data removed]",
      "text/plain": [
       "<Figure size 288x288 with 1 Axes>"
      ]
     },
     "metadata": {
      "needs_background": "light"
     },
     "output_type": "display_data"
    },
    {
     "data": {
      "text/html": [
       "<div>\n",
       "<style scoped>\n",
       "    .dataframe tbody tr th:only-of-type {\n",
       "        vertical-align: middle;\n",
       "    }\n",
       "\n",
       "    .dataframe tbody tr th {\n",
       "        vertical-align: top;\n",
       "    }\n",
       "\n",
       "    .dataframe thead th {\n",
       "        text-align: right;\n",
       "    }\n",
       "</style>\n",
       "<table border=\"1\" class=\"dataframe\">\n",
       "  <thead>\n",
       "    <tr style=\"text-align: right;\">\n",
       "      <th></th>\n",
       "      <th>Prédiction</th>\n",
       "      <th>Probabilité de faux</th>\n",
       "      <th>Probabilité de vrai</th>\n",
       "      <th>id</th>\n",
       "    </tr>\n",
       "  </thead>\n",
       "  <tbody>\n",
       "    <tr>\n",
       "      <th>0</th>\n",
       "      <td>Vrai billet</td>\n",
       "      <td>0.024681</td>\n",
       "      <td>0.975319</td>\n",
       "      <td>B_1</td>\n",
       "    </tr>\n",
       "    <tr>\n",
       "      <th>1</th>\n",
       "      <td>Faux billet</td>\n",
       "      <td>0.939766</td>\n",
       "      <td>0.060234</td>\n",
       "      <td>B_2</td>\n",
       "    </tr>\n",
       "    <tr>\n",
       "      <th>2</th>\n",
       "      <td>Vrai billet</td>\n",
       "      <td>0.009192</td>\n",
       "      <td>0.990808</td>\n",
       "      <td>B_3</td>\n",
       "    </tr>\n",
       "    <tr>\n",
       "      <th>3</th>\n",
       "      <td>Faux billet</td>\n",
       "      <td>0.995937</td>\n",
       "      <td>0.004063</td>\n",
       "      <td>B_4</td>\n",
       "    </tr>\n",
       "    <tr>\n",
       "      <th>4</th>\n",
       "      <td>Faux billet</td>\n",
       "      <td>0.866594</td>\n",
       "      <td>0.133406</td>\n",
       "      <td>B_5</td>\n",
       "    </tr>\n",
       "  </tbody>\n",
       "</table>\n",
       "</div>"
      ],
      "text/plain": [
       "    Prédiction  Probabilité de faux  Probabilité de vrai   id\n",
       "0  Vrai billet             0.024681             0.975319  B_1\n",
       "1  Faux billet             0.939766             0.060234  B_2\n",
       "2  Vrai billet             0.009192             0.990808  B_3\n",
       "3  Faux billet             0.995937             0.004063  B_4\n",
       "4  Faux billet             0.866594             0.133406  B_5"
      ]
     },
     "execution_count": 1,
     "metadata": {},
     "output_type": "execute_result"
    }
   ],
   "source": [
    "import pandas as pd\n",
    "import matplotlib.pyplot as plt\n",
    "import seaborn as sns\n",
    "import sklearn as sk\n",
    "from sklearn.decomposition import PCA\n",
    "import pickle\n",
    "\n",
    "def detection(billets_csv): # Programme de détection des faux billets\n",
    " \n",
    "    train_dict = pickle.load(open('train.p', 'rb'))\n",
    "    std_scale = train_dict[0]\n",
    "    regression = train_dict[1]\n",
    "    pca = train_dict[2]\n",
    "   \n",
    "    \n",
    "    billets = pd.read_csv(billets_csv) # en cas de modif du fichier, ajouter sep='\\t')\n",
    "    X_csv = billets.drop(['id'], axis=1)    \n",
    "    X_csv = pd.DataFrame(std_scale.transform(X_csv), columns=X_csv.columns) # CSV standardisé\n",
    "    \n",
    "    \n",
    "    y_log = regression.predict(X_csv) # Prédictions\n",
    "    predictions = []\n",
    "    for i in range(0, len(y_log)):\n",
    "        predictions.append(y_log[i])\n",
    "    \n",
    "    predictions = pd.concat([ # Jointure des prédictions\n",
    "        pd.DataFrame(\n",
    "        [predictions]).rename(index={0: 'Prédiction'}).T.replace(\n",
    "        {False: 'Faux billet', True: 'Vrai billet'}),\n",
    "        pd.DataFrame(\n",
    "        regression.predict_proba(X_csv)).rename(\n",
    "        columns={0: 'Probabilité de faux', 1: 'Probabilité de vrai'})], axis=1)\n",
    "    predictions['id'] = billets['id'].unique() \n",
    "    \n",
    "    n_components = 2 # ACP\n",
    "    reduced = pca.transform(X_csv)\n",
    "    for i in range(0, n_components):\n",
    "        predictions['PC' + str(i + 1)] = reduced[:, i]   \n",
    "    plt.figure(figsize=(4,4))\n",
    "    sns.scatterplot(data=predictions, x='PC1', y='PC2', markers=['X','o'],\n",
    "                    hue='Prédiction', style='Prédiction', s=2500, palette=['#ff5252', '#1de9b6'])\n",
    "    plt.title('Projection des billets sur 2 dimensions')\n",
    "    plt.show()\n",
    "    \n",
    "    return predictions.iloc[:,:-2]\n",
    "    \n",
    "detection('test_notes.csv')"
   ]
  }
 ],
 "metadata": {
  "hide_input": false,
  "kernelspec": {
   "display_name": "Python 3",
   "language": "python",
   "name": "python3"
  },
  "language_info": {
   "codemirror_mode": {
    "name": "ipython",
    "version": 3
   },
   "file_extension": ".py",
   "mimetype": "text/x-python",
   "name": "python",
   "nbconvert_exporter": "python",
   "pygments_lexer": "ipython3",
   "version": "3.8.5"
  },
  "toc": {
   "base_numbering": 1,
   "nav_menu": {},
   "number_sections": true,
   "sideBar": true,
   "skip_h1_title": false,
   "title_cell": "Table of Contents",
   "title_sidebar": "Contents",
   "toc_cell": false,
   "toc_position": {},
   "toc_section_display": true,
   "toc_window_display": false
  }
 },
 "nbformat": 4,
 "nbformat_minor": 4
}
